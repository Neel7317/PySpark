{
  "nbformat": 4,
  "nbformat_minor": 0,
  "metadata": {
    "colab": {
      "provenance": [],
      "authorship_tag": "ABX9TyMvC24JYn22ssRyGdlmJQhj",
      "include_colab_link": true
    },
    "kernelspec": {
      "name": "python3",
      "display_name": "Python 3"
    },
    "language_info": {
      "name": "python"
    }
  },
  "cells": [
    {
      "cell_type": "markdown",
      "metadata": {
        "id": "view-in-github",
        "colab_type": "text"
      },
      "source": [
        "<a href=\"https://colab.research.google.com/github/Neel7317/PySpark/blob/main/Linear_regression(PySpark).ipynb\" target=\"_parent\"><img src=\"https://colab.research.google.com/assets/colab-badge.svg\" alt=\"Open In Colab\"/></a>"
      ]
    },
    {
      "cell_type": "code",
      "execution_count": 1,
      "metadata": {
        "colab": {
          "base_uri": "https://localhost:8080/"
        },
        "id": "uTl5YwBTrEDf",
        "outputId": "98d3f31f-b3d9-49aa-abe9-60bf95b26d73"
      },
      "outputs": [
        {
          "output_type": "stream",
          "name": "stdout",
          "text": [
            "Collecting pyspark\n",
            "  Downloading pyspark-3.5.0.tar.gz (316.9 MB)\n",
            "\u001b[2K     \u001b[90m━━━━━━━━━━━━━━━━━━━━━━━━━━━━━━━━━━━━━━━━\u001b[0m \u001b[32m316.9/316.9 MB\u001b[0m \u001b[31m3.5 MB/s\u001b[0m eta \u001b[36m0:00:00\u001b[0m\n",
            "\u001b[?25h  Preparing metadata (setup.py) ... \u001b[?25l\u001b[?25hdone\n",
            "Requirement already satisfied: py4j==0.10.9.7 in /usr/local/lib/python3.10/dist-packages (from pyspark) (0.10.9.7)\n",
            "Building wheels for collected packages: pyspark\n",
            "  Building wheel for pyspark (setup.py) ... \u001b[?25l\u001b[?25hdone\n",
            "  Created wheel for pyspark: filename=pyspark-3.5.0-py2.py3-none-any.whl size=317425345 sha256=ea119685b0bc114ef2ebcd1389e38f6c2446a87f8c01d5239767fc32c007150b\n",
            "  Stored in directory: /root/.cache/pip/wheels/41/4e/10/c2cf2467f71c678cfc8a6b9ac9241e5e44a01940da8fbb17fc\n",
            "Successfully built pyspark\n",
            "Installing collected packages: pyspark\n",
            "Successfully installed pyspark-3.5.0\n"
          ]
        }
      ],
      "source": [
        "!pip install pyspark"
      ]
    },
    {
      "cell_type": "code",
      "source": [
        "import pyspark"
      ],
      "metadata": {
        "id": "ObVPldzfsDE7"
      },
      "execution_count": 2,
      "outputs": []
    },
    {
      "cell_type": "code",
      "source": [
        "from pyspark.sql import SparkSession"
      ],
      "metadata": {
        "id": "bNS0A7mPsPGW"
      },
      "execution_count": 3,
      "outputs": []
    },
    {
      "cell_type": "code",
      "source": [
        "spark=SparkSession.builder.appName('test').getOrCreate()"
      ],
      "metadata": {
        "id": "lx98AP6-sStC"
      },
      "execution_count": 4,
      "outputs": []
    },
    {
      "cell_type": "code",
      "source": [
        "df=spark.read.csv('/content/tips.csv',header=True,inferSchema=True)"
      ],
      "metadata": {
        "id": "XUWJoHN1sYk1"
      },
      "execution_count": 5,
      "outputs": []
    },
    {
      "cell_type": "code",
      "source": [
        "df.show()"
      ],
      "metadata": {
        "colab": {
          "base_uri": "https://localhost:8080/"
        },
        "id": "XH1AVKWnshHb",
        "outputId": "ec1914b3-f2d8-43d5-eebc-4810b2de66aa"
      },
      "execution_count": 6,
      "outputs": [
        {
          "output_type": "stream",
          "name": "stdout",
          "text": [
            "+----------+----+------+------+---+------+----+\n",
            "|total_bill| tip|   sex|smoker|day|  time|size|\n",
            "+----------+----+------+------+---+------+----+\n",
            "|     16.99|1.01|Female|    No|Sun|Dinner|   2|\n",
            "|     10.34|1.66|  Male|    No|Sun|Dinner|   3|\n",
            "|     21.01| 3.5|  Male|    No|Sun|Dinner|   3|\n",
            "|     23.68|3.31|  Male|    No|Sun|Dinner|   2|\n",
            "|     24.59|3.61|Female|    No|Sun|Dinner|   4|\n",
            "|     25.29|4.71|  Male|    No|Sun|Dinner|   4|\n",
            "|      8.77| 2.0|  Male|    No|Sun|Dinner|   2|\n",
            "|     26.88|3.12|  Male|    No|Sun|Dinner|   4|\n",
            "|     15.04|1.96|  Male|    No|Sun|Dinner|   2|\n",
            "|     14.78|3.23|  Male|    No|Sun|Dinner|   2|\n",
            "|     10.27|1.71|  Male|    No|Sun|Dinner|   2|\n",
            "|     35.26| 5.0|Female|    No|Sun|Dinner|   4|\n",
            "|     15.42|1.57|  Male|    No|Sun|Dinner|   2|\n",
            "|     18.43| 3.0|  Male|    No|Sun|Dinner|   4|\n",
            "|     14.83|3.02|Female|    No|Sun|Dinner|   2|\n",
            "|     21.58|3.92|  Male|    No|Sun|Dinner|   2|\n",
            "|     10.33|1.67|Female|    No|Sun|Dinner|   3|\n",
            "|     16.29|3.71|  Male|    No|Sun|Dinner|   3|\n",
            "|     16.97| 3.5|Female|    No|Sun|Dinner|   3|\n",
            "|     20.65|3.35|  Male|    No|Sat|Dinner|   3|\n",
            "+----------+----+------+------+---+------+----+\n",
            "only showing top 20 rows\n",
            "\n"
          ]
        }
      ]
    },
    {
      "cell_type": "code",
      "source": [
        "from pyspark.ml.feature import StringIndexer"
      ],
      "metadata": {
        "id": "6mxpyFOzsjMl"
      },
      "execution_count": 7,
      "outputs": []
    },
    {
      "cell_type": "markdown",
      "source": [
        "Like one hot encoding string index is does the same to convert into cetegorical encoding with single as well as multiple columns gather.."
      ],
      "metadata": {
        "id": "FE4MDO42tMIK"
      }
    },
    {
      "cell_type": "code",
      "source": [
        "indexer=StringIndexer(inputCol='sex',outputCol='sex_indexed')\n",
        "df=indexer.fit(df).transform(df)\n",
        "df.show()"
      ],
      "metadata": {
        "colab": {
          "base_uri": "https://localhost:8080/"
        },
        "id": "r79hYA58svBZ",
        "outputId": "95a4b864-6172-42c7-b605-aae77239b05a"
      },
      "execution_count": 8,
      "outputs": [
        {
          "output_type": "stream",
          "name": "stdout",
          "text": [
            "+----------+----+------+------+---+------+----+-----------+\n",
            "|total_bill| tip|   sex|smoker|day|  time|size|sex_indexed|\n",
            "+----------+----+------+------+---+------+----+-----------+\n",
            "|     16.99|1.01|Female|    No|Sun|Dinner|   2|        1.0|\n",
            "|     10.34|1.66|  Male|    No|Sun|Dinner|   3|        0.0|\n",
            "|     21.01| 3.5|  Male|    No|Sun|Dinner|   3|        0.0|\n",
            "|     23.68|3.31|  Male|    No|Sun|Dinner|   2|        0.0|\n",
            "|     24.59|3.61|Female|    No|Sun|Dinner|   4|        1.0|\n",
            "|     25.29|4.71|  Male|    No|Sun|Dinner|   4|        0.0|\n",
            "|      8.77| 2.0|  Male|    No|Sun|Dinner|   2|        0.0|\n",
            "|     26.88|3.12|  Male|    No|Sun|Dinner|   4|        0.0|\n",
            "|     15.04|1.96|  Male|    No|Sun|Dinner|   2|        0.0|\n",
            "|     14.78|3.23|  Male|    No|Sun|Dinner|   2|        0.0|\n",
            "|     10.27|1.71|  Male|    No|Sun|Dinner|   2|        0.0|\n",
            "|     35.26| 5.0|Female|    No|Sun|Dinner|   4|        1.0|\n",
            "|     15.42|1.57|  Male|    No|Sun|Dinner|   2|        0.0|\n",
            "|     18.43| 3.0|  Male|    No|Sun|Dinner|   4|        0.0|\n",
            "|     14.83|3.02|Female|    No|Sun|Dinner|   2|        1.0|\n",
            "|     21.58|3.92|  Male|    No|Sun|Dinner|   2|        0.0|\n",
            "|     10.33|1.67|Female|    No|Sun|Dinner|   3|        1.0|\n",
            "|     16.29|3.71|  Male|    No|Sun|Dinner|   3|        0.0|\n",
            "|     16.97| 3.5|Female|    No|Sun|Dinner|   3|        1.0|\n",
            "|     20.65|3.35|  Male|    No|Sat|Dinner|   3|        0.0|\n",
            "+----------+----+------+------+---+------+----+-----------+\n",
            "only showing top 20 rows\n",
            "\n"
          ]
        }
      ]
    },
    {
      "cell_type": "code",
      "source": [
        "indexer=StringIndexer(inputCols=['smoker','day','time'],outputCols=['smoker_indexed','day_indexed','time_indexed'])\n",
        "df=indexer.fit(df).transform(df)\n",
        "df.show()"
      ],
      "metadata": {
        "colab": {
          "base_uri": "https://localhost:8080/"
        },
        "id": "Om78vYGYtJqB",
        "outputId": "a1a670d7-4e3e-44e3-94e1-a4183fa0d5cc"
      },
      "execution_count": 9,
      "outputs": [
        {
          "output_type": "stream",
          "name": "stdout",
          "text": [
            "+----------+----+------+------+---+------+----+-----------+--------------+-----------+------------+\n",
            "|total_bill| tip|   sex|smoker|day|  time|size|sex_indexed|smoker_indexed|day_indexed|time_indexed|\n",
            "+----------+----+------+------+---+------+----+-----------+--------------+-----------+------------+\n",
            "|     16.99|1.01|Female|    No|Sun|Dinner|   2|        1.0|           0.0|        1.0|         0.0|\n",
            "|     10.34|1.66|  Male|    No|Sun|Dinner|   3|        0.0|           0.0|        1.0|         0.0|\n",
            "|     21.01| 3.5|  Male|    No|Sun|Dinner|   3|        0.0|           0.0|        1.0|         0.0|\n",
            "|     23.68|3.31|  Male|    No|Sun|Dinner|   2|        0.0|           0.0|        1.0|         0.0|\n",
            "|     24.59|3.61|Female|    No|Sun|Dinner|   4|        1.0|           0.0|        1.0|         0.0|\n",
            "|     25.29|4.71|  Male|    No|Sun|Dinner|   4|        0.0|           0.0|        1.0|         0.0|\n",
            "|      8.77| 2.0|  Male|    No|Sun|Dinner|   2|        0.0|           0.0|        1.0|         0.0|\n",
            "|     26.88|3.12|  Male|    No|Sun|Dinner|   4|        0.0|           0.0|        1.0|         0.0|\n",
            "|     15.04|1.96|  Male|    No|Sun|Dinner|   2|        0.0|           0.0|        1.0|         0.0|\n",
            "|     14.78|3.23|  Male|    No|Sun|Dinner|   2|        0.0|           0.0|        1.0|         0.0|\n",
            "|     10.27|1.71|  Male|    No|Sun|Dinner|   2|        0.0|           0.0|        1.0|         0.0|\n",
            "|     35.26| 5.0|Female|    No|Sun|Dinner|   4|        1.0|           0.0|        1.0|         0.0|\n",
            "|     15.42|1.57|  Male|    No|Sun|Dinner|   2|        0.0|           0.0|        1.0|         0.0|\n",
            "|     18.43| 3.0|  Male|    No|Sun|Dinner|   4|        0.0|           0.0|        1.0|         0.0|\n",
            "|     14.83|3.02|Female|    No|Sun|Dinner|   2|        1.0|           0.0|        1.0|         0.0|\n",
            "|     21.58|3.92|  Male|    No|Sun|Dinner|   2|        0.0|           0.0|        1.0|         0.0|\n",
            "|     10.33|1.67|Female|    No|Sun|Dinner|   3|        1.0|           0.0|        1.0|         0.0|\n",
            "|     16.29|3.71|  Male|    No|Sun|Dinner|   3|        0.0|           0.0|        1.0|         0.0|\n",
            "|     16.97| 3.5|Female|    No|Sun|Dinner|   3|        1.0|           0.0|        1.0|         0.0|\n",
            "|     20.65|3.35|  Male|    No|Sat|Dinner|   3|        0.0|           0.0|        0.0|         0.0|\n",
            "+----------+----+------+------+---+------+----+-----------+--------------+-----------+------------+\n",
            "only showing top 20 rows\n",
            "\n"
          ]
        }
      ]
    },
    {
      "cell_type": "code",
      "source": [
        "from pyspark.ml.feature import VectorAssembler\n"
      ],
      "metadata": {
        "id": "2PalGXq8t8UH"
      },
      "execution_count": 10,
      "outputs": []
    },
    {
      "cell_type": "code",
      "source": [
        "featurevector=VectorAssembler(inputCols=['tip','sex_indexed','smoker_indexed','day_indexed','time_indexed','size'],outputCol='input_vector')\n",
        "df=featurevector.transform(df)\n",
        "df.show()"
      ],
      "metadata": {
        "colab": {
          "base_uri": "https://localhost:8080/"
        },
        "id": "kelxInopuvSy",
        "outputId": "fc99952b-d1ea-4b35-8414-ba0d7d40c54a"
      },
      "execution_count": 12,
      "outputs": [
        {
          "output_type": "stream",
          "name": "stdout",
          "text": [
            "+----------+----+------+------+---+------+----+-----------+--------------+-----------+------------+--------------------+\n",
            "|total_bill| tip|   sex|smoker|day|  time|size|sex_indexed|smoker_indexed|day_indexed|time_indexed|        input_vector|\n",
            "+----------+----+------+------+---+------+----+-----------+--------------+-----------+------------+--------------------+\n",
            "|     16.99|1.01|Female|    No|Sun|Dinner|   2|        1.0|           0.0|        1.0|         0.0|[1.01,1.0,0.0,1.0...|\n",
            "|     10.34|1.66|  Male|    No|Sun|Dinner|   3|        0.0|           0.0|        1.0|         0.0|[1.66,0.0,0.0,1.0...|\n",
            "|     21.01| 3.5|  Male|    No|Sun|Dinner|   3|        0.0|           0.0|        1.0|         0.0|[3.5,0.0,0.0,1.0,...|\n",
            "|     23.68|3.31|  Male|    No|Sun|Dinner|   2|        0.0|           0.0|        1.0|         0.0|[3.31,0.0,0.0,1.0...|\n",
            "|     24.59|3.61|Female|    No|Sun|Dinner|   4|        1.0|           0.0|        1.0|         0.0|[3.61,1.0,0.0,1.0...|\n",
            "|     25.29|4.71|  Male|    No|Sun|Dinner|   4|        0.0|           0.0|        1.0|         0.0|[4.71,0.0,0.0,1.0...|\n",
            "|      8.77| 2.0|  Male|    No|Sun|Dinner|   2|        0.0|           0.0|        1.0|         0.0|[2.0,0.0,0.0,1.0,...|\n",
            "|     26.88|3.12|  Male|    No|Sun|Dinner|   4|        0.0|           0.0|        1.0|         0.0|[3.12,0.0,0.0,1.0...|\n",
            "|     15.04|1.96|  Male|    No|Sun|Dinner|   2|        0.0|           0.0|        1.0|         0.0|[1.96,0.0,0.0,1.0...|\n",
            "|     14.78|3.23|  Male|    No|Sun|Dinner|   2|        0.0|           0.0|        1.0|         0.0|[3.23,0.0,0.0,1.0...|\n",
            "|     10.27|1.71|  Male|    No|Sun|Dinner|   2|        0.0|           0.0|        1.0|         0.0|[1.71,0.0,0.0,1.0...|\n",
            "|     35.26| 5.0|Female|    No|Sun|Dinner|   4|        1.0|           0.0|        1.0|         0.0|[5.0,1.0,0.0,1.0,...|\n",
            "|     15.42|1.57|  Male|    No|Sun|Dinner|   2|        0.0|           0.0|        1.0|         0.0|[1.57,0.0,0.0,1.0...|\n",
            "|     18.43| 3.0|  Male|    No|Sun|Dinner|   4|        0.0|           0.0|        1.0|         0.0|[3.0,0.0,0.0,1.0,...|\n",
            "|     14.83|3.02|Female|    No|Sun|Dinner|   2|        1.0|           0.0|        1.0|         0.0|[3.02,1.0,0.0,1.0...|\n",
            "|     21.58|3.92|  Male|    No|Sun|Dinner|   2|        0.0|           0.0|        1.0|         0.0|[3.92,0.0,0.0,1.0...|\n",
            "|     10.33|1.67|Female|    No|Sun|Dinner|   3|        1.0|           0.0|        1.0|         0.0|[1.67,1.0,0.0,1.0...|\n",
            "|     16.29|3.71|  Male|    No|Sun|Dinner|   3|        0.0|           0.0|        1.0|         0.0|[3.71,0.0,0.0,1.0...|\n",
            "|     16.97| 3.5|Female|    No|Sun|Dinner|   3|        1.0|           0.0|        1.0|         0.0|[3.5,1.0,0.0,1.0,...|\n",
            "|     20.65|3.35|  Male|    No|Sat|Dinner|   3|        0.0|           0.0|        0.0|         0.0|(6,[0,5],[3.35,3.0])|\n",
            "+----------+----+------+------+---+------+----+-----------+--------------+-----------+------------+--------------------+\n",
            "only showing top 20 rows\n",
            "\n"
          ]
        }
      ]
    },
    {
      "cell_type": "code",
      "source": [
        "final_col=df.select('input_vector','total_bill')"
      ],
      "metadata": {
        "id": "6uRC7Kamwp94"
      },
      "execution_count": 13,
      "outputs": []
    },
    {
      "cell_type": "code",
      "source": [
        "final_col.show()"
      ],
      "metadata": {
        "colab": {
          "base_uri": "https://localhost:8080/"
        },
        "id": "84PUOFyzw9Gf",
        "outputId": "ba43ca08-72d8-4c09-ed7b-761ef0fd1732"
      },
      "execution_count": 14,
      "outputs": [
        {
          "output_type": "stream",
          "name": "stdout",
          "text": [
            "+--------------------+----------+\n",
            "|        input_vector|total_bill|\n",
            "+--------------------+----------+\n",
            "|[1.01,1.0,0.0,1.0...|     16.99|\n",
            "|[1.66,0.0,0.0,1.0...|     10.34|\n",
            "|[3.5,0.0,0.0,1.0,...|     21.01|\n",
            "|[3.31,0.0,0.0,1.0...|     23.68|\n",
            "|[3.61,1.0,0.0,1.0...|     24.59|\n",
            "|[4.71,0.0,0.0,1.0...|     25.29|\n",
            "|[2.0,0.0,0.0,1.0,...|      8.77|\n",
            "|[3.12,0.0,0.0,1.0...|     26.88|\n",
            "|[1.96,0.0,0.0,1.0...|     15.04|\n",
            "|[3.23,0.0,0.0,1.0...|     14.78|\n",
            "|[1.71,0.0,0.0,1.0...|     10.27|\n",
            "|[5.0,1.0,0.0,1.0,...|     35.26|\n",
            "|[1.57,0.0,0.0,1.0...|     15.42|\n",
            "|[3.0,0.0,0.0,1.0,...|     18.43|\n",
            "|[3.02,1.0,0.0,1.0...|     14.83|\n",
            "|[3.92,0.0,0.0,1.0...|     21.58|\n",
            "|[1.67,1.0,0.0,1.0...|     10.33|\n",
            "|[3.71,0.0,0.0,1.0...|     16.29|\n",
            "|[3.5,1.0,0.0,1.0,...|     16.97|\n",
            "|(6,[0,5],[3.35,3.0])|     20.65|\n",
            "+--------------------+----------+\n",
            "only showing top 20 rows\n",
            "\n"
          ]
        }
      ]
    },
    {
      "cell_type": "code",
      "source": [
        "from pyspark.ml.regression import LinearRegression"
      ],
      "metadata": {
        "id": "H_ubSsPaw-3H"
      },
      "execution_count": 15,
      "outputs": []
    },
    {
      "cell_type": "code",
      "source": [
        "train,test=final_col.randomSplit([0.75,0.25])"
      ],
      "metadata": {
        "id": "GqKF4BJcxHfk"
      },
      "execution_count": 16,
      "outputs": []
    },
    {
      "cell_type": "code",
      "source": [
        "model=LinearRegression(featuresCol='input_vector',labelCol='total_bill')"
      ],
      "metadata": {
        "id": "2xRf7uSoxNjl"
      },
      "execution_count": 17,
      "outputs": []
    },
    {
      "cell_type": "code",
      "source": [
        "model=model.fit(train)"
      ],
      "metadata": {
        "id": "yBOXUtjOxeGV"
      },
      "execution_count": 18,
      "outputs": []
    },
    {
      "cell_type": "code",
      "source": [
        "model.coefficients"
      ],
      "metadata": {
        "colab": {
          "base_uri": "https://localhost:8080/"
        },
        "id": "XCN3PfE6xjkl",
        "outputId": "2b57e3eb-ae7f-4600-be61-b5df3cf046ab"
      },
      "execution_count": 19,
      "outputs": [
        {
          "output_type": "execute_result",
          "data": {
            "text/plain": [
              "DenseVector([3.2327, -0.5196, 2.2434, -0.0138, -0.5434, 4.1716])"
            ]
          },
          "metadata": {},
          "execution_count": 19
        }
      ]
    },
    {
      "cell_type": "code",
      "source": [
        "model.intercept"
      ],
      "metadata": {
        "colab": {
          "base_uri": "https://localhost:8080/"
        },
        "id": "QlvRCPGnyGu9",
        "outputId": "7b5734f1-8742-4cde-d273-ef772cfc91cf"
      },
      "execution_count": 20,
      "outputs": [
        {
          "output_type": "execute_result",
          "data": {
            "text/plain": [
              "-1.3248785513986665"
            ]
          },
          "metadata": {},
          "execution_count": 20
        }
      ]
    },
    {
      "cell_type": "code",
      "source": [
        "results=model.evaluate(test)"
      ],
      "metadata": {
        "id": "BaPVqmfZyLMx"
      },
      "execution_count": 21,
      "outputs": []
    },
    {
      "cell_type": "code",
      "source": [
        "results.predictions.show()"
      ],
      "metadata": {
        "colab": {
          "base_uri": "https://localhost:8080/"
        },
        "id": "XpkiysfJyRac",
        "outputId": "a37592c8-84f6-4ea5-b522-b1252c43bf7f"
      },
      "execution_count": 22,
      "outputs": [
        {
          "output_type": "stream",
          "name": "stdout",
          "text": [
            "+--------------------+----------+------------------+\n",
            "|        input_vector|total_bill|        prediction|\n",
            "+--------------------+----------+------------------+\n",
            "|(6,[0,5],[2.01,2.0])|     20.23|13.516065517848512|\n",
            "| (6,[0,5],[3.0,2.0])|      14.0|16.716453364352464|\n",
            "|(6,[0,5],[3.18,2.0])|     19.82| 17.29834206371682|\n",
            "|(6,[0,5],[4.08,2.0])|     17.92|20.207785560538593|\n",
            "|[1.17,0.0,1.0,0.0...|     32.83|13.044022321803082|\n",
            "|[1.25,1.0,0.0,2.0...|      8.51| 9.968623952284698|\n",
            "|[1.5,0.0,0.0,2.0,...|     19.08|11.296449917331975|\n",
            "|[1.5,0.0,0.0,3.0,...|     12.46|11.826067327957727|\n",
            "|[1.5,1.0,0.0,0.0,...|     26.41| 11.34773365371939|\n",
            "|[1.61,1.0,1.0,0.0...|     10.59|13.946769704319168|\n",
            "|[1.64,0.0,1.0,0.0...|     15.36|14.563398370143341|\n",
            "|[1.66,0.0,0.0,1.0...|     10.34|16.542437551693173|\n",
            "|[1.68,1.0,0.0,2.0...|     13.42|11.358691400766213|\n",
            "|[1.71,0.0,0.0,1.0...|     10.27|12.532479838343994|\n",
            "|[1.96,0.0,0.0,1.0...|     15.04|13.340658587461153|\n",
            "|[2.0,0.0,0.0,1.0,...|     13.13|13.469967187319899|\n",
            "|[2.0,0.0,0.0,1.0,...|     19.77|21.813154113665117|\n",
            "|[2.0,0.0,0.0,2.0,...|     13.03|12.912807415566293|\n",
            "|[2.0,0.0,1.0,0.0,...|     22.67|15.727175768872053|\n",
            "|[2.0,0.0,1.0,1.0,...|     14.48|15.713404588308125|\n",
            "+--------------------+----------+------------------+\n",
            "only showing top 20 rows\n",
            "\n"
          ]
        }
      ]
    },
    {
      "cell_type": "code",
      "source": [
        "results.meanAbsoluteError,results.meanSquaredError\n",
        ""
      ],
      "metadata": {
        "colab": {
          "base_uri": "https://localhost:8080/"
        },
        "id": "O_hg83d6yU6j",
        "outputId": "369ddf3f-2c80-4f7b-827d-32559f9a0fce"
      },
      "execution_count": 23,
      "outputs": [
        {
          "output_type": "execute_result",
          "data": {
            "text/plain": [
              "(4.946015009294414, 49.95828749666931)"
            ]
          },
          "metadata": {},
          "execution_count": 23
        }
      ]
    },
    {
      "cell_type": "code",
      "source": [],
      "metadata": {
        "id": "T82EMGB8yZgc"
      },
      "execution_count": null,
      "outputs": []
    }
  ]
}